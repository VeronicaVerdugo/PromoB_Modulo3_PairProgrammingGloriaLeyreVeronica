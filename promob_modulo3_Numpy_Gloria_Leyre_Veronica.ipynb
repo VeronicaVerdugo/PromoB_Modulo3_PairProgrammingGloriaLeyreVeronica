{
 "cells": [
  {
   "cell_type": "code",
   "execution_count": 1,
   "metadata": {},
   "outputs": [],
   "source": [
    "# MODULO 3.1 NUMPY PAIR PROGRMMING GGLORIA, LEYRE, VERONICA (24/7/24)\n",
    "# 📝 NOTA En este ejercicio os hemos pedido algunos de los métodos, pero sentiros libres de practicar otros para ir asentando los conocimientos."
   ]
  },
  {
   "cell_type": "code",
   "execution_count": 2,
   "metadata": {},
   "outputs": [
    {
     "name": "stdout",
     "output_type": "stream",
     "text": [
      "Requirement already satisfied: numpy in /opt/anaconda3/lib/python3.11/site-packages (1.26.4)\n"
     ]
    }
   ],
   "source": [
    "! pip install numpy"
   ]
  },
  {
   "cell_type": "code",
   "execution_count": 87,
   "metadata": {},
   "outputs": [],
   "source": [
    "import numpy as np"
   ]
  },
  {
   "cell_type": "code",
   "execution_count": 4,
   "metadata": {},
   "outputs": [
    {
     "name": "stdout",
     "output_type": "stream",
     "text": [
      "[[40 85 47]\n",
      " [56 63 70]\n",
      " [93 52 55]\n",
      " [67 47 46]]\n"
     ]
    },
    {
     "data": {
      "text/plain": [
       "dtype('int64')"
      ]
     },
     "execution_count": 4,
     "metadata": {},
     "output_type": "execute_result"
    }
   ],
   "source": [
    "# 1.1  Genera un array bidimensional de 4 x 3 con valores aleatorios enteros entre el 34 y el 98. \n",
    "array2d = np.random.randint(34, 98,(4,3)) \n",
    "print(array2d)\n",
    "# 1.2 Una vez creado cada array comprueba las dimensiones y los tipos de datos que tenemos en el array.\n",
    "array2d.shape # shape = ver la \"forma\" en este caso son filas y columnas\n",
    "array2d.dtype # El tipo de datos que contiene: int, string...lo que sea"
   ]
  },
  {
   "cell_type": "code",
   "execution_count": 5,
   "metadata": {},
   "outputs": [
    {
     "data": {
      "text/plain": [
       "array([[23, 45, 89, 56],\n",
       "       [12, 43, 82, 44]])"
      ]
     },
     "execution_count": 5,
     "metadata": {},
     "output_type": "execute_result"
    }
   ],
   "source": [
    "# 2.Crea dos arrays (unidimensional, bidimensional) usando el método np.array().\n",
    "# Las listas para crear los arrays son las siguientes\n",
    "\n",
    "lista1 = [34,56,71,98, 10]\n",
    "lista2 = [[23,45,89, 56], [12,43,82,44]]\n",
    "\n",
    "np.array(lista1)\n",
    "np.array(lista2)"
   ]
  },
  {
   "cell_type": "code",
   "execution_count": 6,
   "metadata": {},
   "outputs": [],
   "source": [
    "# 3.1 Crea un array unidimensional con 50 elementos con el método que prefieras y extrae:\n",
    "lista3 = list(range(50)) \n",
    "array1d = np.array(lista3)"
   ]
  },
  {
   "cell_type": "code",
   "execution_count": 7,
   "metadata": {},
   "outputs": [
    {
     "data": {
      "text/plain": [
       "0"
      ]
     },
     "execution_count": 7,
     "metadata": {},
     "output_type": "execute_result"
    }
   ],
   "source": [
    "# 3.2 Extrae el primer elemento\n",
    "array1d[0]"
   ]
  },
  {
   "cell_type": "code",
   "execution_count": 8,
   "metadata": {},
   "outputs": [
    {
     "data": {
      "text/plain": [
       "array([ 1,  3,  5,  7,  9, 11, 13, 15, 17, 19, 21, 23, 25, 27, 29, 31, 33,\n",
       "       35, 37, 39, 41, 43, 45, 47, 49])"
      ]
     },
     "execution_count": 8,
     "metadata": {},
     "output_type": "execute_result"
    }
   ],
   "source": [
    "# 3.3 Los elementos que están en posición impar.\n",
    "array1d[1::2]"
   ]
  },
  {
   "cell_type": "code",
   "execution_count": 9,
   "metadata": {},
   "outputs": [
    {
     "data": {
      "text/plain": [
       "array([0, 1, 2, 3])"
      ]
     },
     "execution_count": 9,
     "metadata": {},
     "output_type": "execute_result"
    }
   ],
   "source": [
    "# 3.4 Los cuatro primeros elementos.\n",
    "array1d[:4:]"
   ]
  },
  {
   "cell_type": "code",
   "execution_count": 10,
   "metadata": {},
   "outputs": [
    {
     "data": {
      "text/plain": [
       "array([47, 48, 49])"
      ]
     },
     "execution_count": 10,
     "metadata": {},
     "output_type": "execute_result"
    }
   ],
   "source": [
    "# 3.5 Los últimos tres elementos.\n",
    "array1d[-3::]"
   ]
  },
  {
   "cell_type": "code",
   "execution_count": 11,
   "metadata": {},
   "outputs": [
    {
     "data": {
      "text/plain": [
       "array([4, 5, 6, 7])"
      ]
     },
     "execution_count": 11,
     "metadata": {},
     "output_type": "execute_result"
    }
   ],
   "source": [
    "# 3.6 Los elementos entre el 4 y el 8 (incluido).\n",
    "array1d[4:8:]"
   ]
  },
  {
   "cell_type": "code",
   "execution_count": 36,
   "metadata": {},
   "outputs": [
    {
     "data": {
      "text/plain": [
       "array([[14, 10, 17, 16, 16],\n",
       "       [13,  1, 18,  3, 17],\n",
       "       [ 2,  4, 17,  2, 11],\n",
       "       [ 2,  8, 15,  6, 14]])"
      ]
     },
     "execution_count": 36,
     "metadata": {},
     "output_type": "execute_result"
    }
   ],
   "source": [
    "# 4.1 Crea un array de dos dimensiones de 4 x 5 con el método que prefieras\n",
    "array2d = np.random.randint(1,20,(4,5))\n",
    "array2d"
   ]
  },
  {
   "cell_type": "code",
   "execution_count": 37,
   "metadata": {},
   "outputs": [
    {
     "data": {
      "text/plain": [
       "array([14, 10, 17, 16, 16])"
      ]
     },
     "execution_count": 37,
     "metadata": {},
     "output_type": "execute_result"
    }
   ],
   "source": [
    "# 4.2 Extrae a primera fila y todas las columnas.\n",
    "array2d[0]\n"
   ]
  },
  {
   "cell_type": "code",
   "execution_count": 38,
   "metadata": {},
   "outputs": [
    {
     "data": {
      "text/plain": [
       "array([[14, 10, 17, 16, 16],\n",
       "       [ 2,  4, 17,  2, 11]])"
      ]
     },
     "execution_count": 38,
     "metadata": {},
     "output_type": "execute_result"
    }
   ],
   "source": [
    "# 4.3 Todas las filas pares.\n",
    "array2d[::2]"
   ]
  },
  {
   "cell_type": "code",
   "execution_count": 48,
   "metadata": {},
   "outputs": [
    {
     "data": {
      "text/plain": [
       "array([14, 13,  2,  2])"
      ]
     },
     "execution_count": 48,
     "metadata": {},
     "output_type": "execute_result"
    }
   ],
   "source": [
    "# 4.4 La primera columna y todas las filas.\n",
    "array2d[:,0]"
   ]
  },
  {
   "cell_type": "code",
   "execution_count": 55,
   "metadata": {},
   "outputs": [
    {
     "data": {
      "text/plain": [
       "array([[38, 19, 34, 41],\n",
       "       [ 1, 26, 10, 36],\n",
       "       [ 1,  6,  9, 10],\n",
       "       [37, 38,  2, 44],\n",
       "       [44, 32, 38, 19]])"
      ]
     },
     "execution_count": 55,
     "metadata": {},
     "output_type": "execute_result"
    }
   ],
   "source": [
    "# 5.1 Crea un array bidimensional con 20 elementos aleatrorios entre 0 y 50 con el método que prefieras y:\n",
    "arraybidi = np.random.randint(0,51,(5,4))\n",
    "arraybidi"
   ]
  },
  {
   "cell_type": "code",
   "execution_count": 64,
   "metadata": {},
   "outputs": [
    {
     "name": "stdout",
     "output_type": "stream",
     "text": [
      "[['objetivo' 'no es mi objetivo' 'objetivo' 'objetivo']\n",
      " ['objetivo' 'no es mi objetivo' 'no es mi objetivo' 'objetivo']\n",
      " ['objetivo' 'objetivo' 'objetivo' 'no es mi objetivo']\n",
      " ['objetivo' 'objetivo' 'objetivo' 'objetivo']\n",
      " ['objetivo' 'objetivo' 'objetivo' 'no es mi objetivo']]\n"
     ]
    }
   ],
   "source": [
    "# 5.2 Crea una mascara o filtro donde los valores mayores a 30\n",
    "# y menores a 10 se reemplace por \"objetivo\" y el resto por \"no es mi objetivo\".\n",
    "array_mascara = np.where ((arraybidi > 30) | (arraybidi<10), \"objetivo\", \"no es mi objetivo\")\n",
    "\n",
    "print (array_mascara)"
   ]
  },
  {
   "cell_type": "code",
   "execution_count": 65,
   "metadata": {},
   "outputs": [
    {
     "data": {
      "text/plain": [
       "array([[380, 190, 340, 410],\n",
       "       [ 10, 260, 100, 360],\n",
       "       [ 10,  60,  90, 100],\n",
       "       [370, 380,  20, 440],\n",
       "       [440, 320, 380, 190]])"
      ]
     },
     "execution_count": 65,
     "metadata": {},
     "output_type": "execute_result"
    }
   ],
   "source": [
    "# 5.3 Los valores de mi array bidimensional multiplicalos por el escalar 10.\n",
    "#¿Escalar no es lo mismo que multiplicar directamente?\n",
    "arraybidi * 10"
   ]
  },
  {
   "cell_type": "code",
   "execution_count": 66,
   "metadata": {},
   "outputs": [],
   "source": [
    "# 6.1 Crea un nuevo array de dos dimensiones con la misma forma que el anterior y con el método que prefieras y realiza lo siguiente:\n",
    "arraybidi2 = np.random.randint(0,51,(5,4))"
   ]
  },
  {
   "cell_type": "code",
   "execution_count": 67,
   "metadata": {},
   "outputs": [
    {
     "data": {
      "text/plain": [
       "array([[39, 29, 49, 83],\n",
       "       [26, 31, 59, 81],\n",
       "       [ 5, 12, 11, 17],\n",
       "       [50, 66, 28, 89],\n",
       "       [59, 61, 41, 50]])"
      ]
     },
     "execution_count": 67,
     "metadata": {},
     "output_type": "execute_result"
    }
   ],
   "source": [
    "# 6.2 Suma el primer array con el segundo.\n",
    "arraybidi + arraybidi2"
   ]
  },
  {
   "cell_type": "code",
   "execution_count": 69,
   "metadata": {},
   "outputs": [
    {
     "data": {
      "text/plain": [
       "array([[                  38,        6131066257801, -5815062939426062336,\n",
       "          569720415935503313],\n",
       "       [                   1,             11881376,  -537617205517352960,\n",
       "                           0],\n",
       "       [                   1,                46656,                   81,\n",
       "                    10000000],\n",
       "       [ 3761551257857134389,   333500598735339520,             67108864,\n",
       "                           0],\n",
       "       [-2859305307937439744,                    0,                54872,\n",
       "         2421078562627535771]])"
      ]
     },
     "execution_count": 69,
     "metadata": {},
     "output_type": "execute_result"
    }
   ],
   "source": [
    "# 6.3 Aplicar la potencia para el primer array elevado al segundo.\n",
    "arraybidi**arraybidi2\n"
   ]
  },
  {
   "cell_type": "code",
   "execution_count": 70,
   "metadata": {},
   "outputs": [
    {
     "data": {
      "text/plain": [
       "array([[                  38,        6131066257801, -5815062939426062336,\n",
       "          569720415935503313],\n",
       "       [                   1,             11881376,  -537617205517352960,\n",
       "                           0],\n",
       "       [                   1,                46656,                   81,\n",
       "                    10000000],\n",
       "       [ 3761551257857134389,   333500598735339520,             67108864,\n",
       "                           0],\n",
       "       [-2859305307937439744,                    0,                54872,\n",
       "         2421078562627535771]])"
      ]
     },
     "execution_count": 70,
     "metadata": {},
     "output_type": "execute_result"
    }
   ],
   "source": [
    "# Función np power... ¿Por qué es mejor así que con 2 **?\n",
    "np.power(arraybidi,arraybidi2)"
   ]
  },
  {
   "cell_type": "code",
   "execution_count": 71,
   "metadata": {},
   "outputs": [
    {
     "data": {
      "text/plain": [
       "array([[ 98,  10,  94,  71,   5,  94,  93,  37,  74,  48],\n",
       "       [ 28,  10,  52,  87,  59,  59,  73,  31,  57,  41],\n",
       "       [ 23,  36,  26,  92,  81,   3,  42,  25,  51,  22],\n",
       "       [ 37,  16,  36,  90,  57,  70,  45,  58,  22,  45],\n",
       "       [ 57,  83,  21,   1,  43,   2,   8,  35,  85,  31],\n",
       "       [ 73,   5,  73,  91,  43,  80,   7,  15,  67,  94],\n",
       "       [ 32,  73,  75,  21,  31,  80,  62,  20,   1,  24],\n",
       "       [ 99,   3,  40,  59,  89,  71,   8,  93,  30,  86],\n",
       "       [ 40,  59,  37,  48,  71,  41,  90, 100,  37,  36],\n",
       "       [ 72,  77,  68,  10,  92,  71,  31,  83,   3,  18]])"
      ]
     },
     "execution_count": 71,
     "metadata": {},
     "output_type": "execute_result"
    }
   ],
   "source": [
    "# 7.1 Crea un array, puede ser bidimensional! Eso si, los valores tienen que estar entre 0-100\n",
    "array_max = np.random.randint(0,101,(10,10))\n",
    "array_max"
   ]
  },
  {
   "cell_type": "code",
   "execution_count": 75,
   "metadata": {},
   "outputs": [
    {
     "data": {
      "text/plain": [
       "array([55.9, 37.2, 52.2, 57. , 57.1, 57.1, 45.9, 49.7, 42.7, 44.5])"
      ]
     },
     "execution_count": 75,
     "metadata": {},
     "output_type": "execute_result"
    }
   ],
   "source": [
    "# 7.2 Calcula: La media de los elementos\n",
    "np.mean(array_max,axis=1)"
   ]
  },
  {
   "cell_type": "code",
   "execution_count": 85,
   "metadata": {},
   "outputs": [
    {
     "data": {
      "text/plain": [
       "array([55.9, 37.2, 52.2, 57. , 57.1, 57.1, 45.9, 49.7, 42.7, 44.5])"
      ]
     },
     "execution_count": 85,
     "metadata": {},
     "output_type": "execute_result"
    }
   ],
   "source": [
    "# 7.3 La media de las columnas y redondéalo a dos decimales\n",
    "media_columnas = np.mean(array_max,axis=0)\n",
    "media_columnas\n"
   ]
  },
  {
   "cell_type": "code",
   "execution_count": 94,
   "metadata": {},
   "outputs": [
    {
     "data": {
      "text/plain": [
       "array([55.9, 37.2, 52.2, 57. , 57.1, 57.1, 45.9, 49.7, 42.7, 44.5])"
      ]
     },
     "execution_count": 94,
     "metadata": {},
     "output_type": "execute_result"
    }
   ],
   "source": [
    "# No sabemos por qué no nos sale\n",
    "media_columnas_redondeo = np.round(media_columnas,2)\n",
    "media_columnas_redondeo"
   ]
  },
  {
   "cell_type": "code",
   "execution_count": 95,
   "metadata": {},
   "outputs": [
    {
     "data": {
      "text/plain": [
       "array([ 98,  87,  92,  90,  85,  94,  80,  99, 100,  92])"
      ]
     },
     "execution_count": 95,
     "metadata": {},
     "output_type": "execute_result"
    }
   ],
   "source": [
    "# 7.4 El valor máximo de cada fila\n",
    "np.max(array_max, axis = 1)"
   ]
  },
  {
   "cell_type": "code",
   "execution_count": 97,
   "metadata": {},
   "outputs": [
    {
     "data": {
      "text/plain": [
       "array([ 5, 10,  3, 16,  1,  5,  1,  3, 36,  3])"
      ]
     },
     "execution_count": 97,
     "metadata": {},
     "output_type": "execute_result"
    }
   ],
   "source": [
    "# 7.5 El valor mínimo de cada fila\n",
    "np.min(array_max, axis = 1)"
   ]
  },
  {
   "cell_type": "code",
   "execution_count": 98,
   "metadata": {},
   "outputs": [
    {
     "data": {
      "text/plain": [
       "array([[ True, False,  True, False, False,  True,  True, False, False,\n",
       "        False],\n",
       "       [False, False, False, False, False, False, False, False, False,\n",
       "        False],\n",
       "       [False, False, False,  True, False, False, False, False, False,\n",
       "        False],\n",
       "       [False, False, False, False, False, False, False, False, False,\n",
       "        False],\n",
       "       [False, False, False, False, False, False, False, False, False,\n",
       "        False],\n",
       "       [False, False, False,  True, False, False, False, False, False,\n",
       "         True],\n",
       "       [False, False, False, False, False, False, False, False, False,\n",
       "        False],\n",
       "       [ True, False, False, False, False, False, False,  True, False,\n",
       "        False],\n",
       "       [False, False, False, False, False, False, False,  True, False,\n",
       "        False],\n",
       "       [False, False, False, False,  True, False, False, False, False,\n",
       "        False]])"
      ]
     },
     "execution_count": 98,
     "metadata": {},
     "output_type": "execute_result"
    }
   ],
   "source": [
    "# 7.6 Hay algun valor que sea mayor que 90 en tu array\n",
    "array_max > 90"
   ]
  },
  {
   "cell_type": "code",
   "execution_count": 100,
   "metadata": {},
   "outputs": [
    {
     "data": {
      "text/plain": [
       "<numpy.ndenumerate at 0x10ea33310>"
      ]
     },
     "execution_count": 100,
     "metadata": {},
     "output_type": "execute_result"
    }
   ],
   "source": [
    "# 7.7 Donde los podemos encontrar, cuáles son sus índices\n",
    "np.ndenumerate(array_max>90)\n"
   ]
  },
  {
   "cell_type": "code",
   "execution_count": 102,
   "metadata": {},
   "outputs": [
    {
     "name": "stdout",
     "output_type": "stream",
     "text": [
      "Índice: (0, 0), Valor: True\n",
      "Índice: (0, 1), Valor: False\n",
      "Índice: (0, 2), Valor: True\n",
      "Índice: (0, 3), Valor: False\n",
      "Índice: (0, 4), Valor: False\n",
      "Índice: (0, 5), Valor: True\n",
      "Índice: (0, 6), Valor: True\n",
      "Índice: (0, 7), Valor: False\n",
      "Índice: (0, 8), Valor: False\n",
      "Índice: (0, 9), Valor: False\n",
      "Índice: (1, 0), Valor: False\n",
      "Índice: (1, 1), Valor: False\n",
      "Índice: (1, 2), Valor: False\n",
      "Índice: (1, 3), Valor: False\n",
      "Índice: (1, 4), Valor: False\n",
      "Índice: (1, 5), Valor: False\n",
      "Índice: (1, 6), Valor: False\n",
      "Índice: (1, 7), Valor: False\n",
      "Índice: (1, 8), Valor: False\n",
      "Índice: (1, 9), Valor: False\n",
      "Índice: (2, 0), Valor: False\n",
      "Índice: (2, 1), Valor: False\n",
      "Índice: (2, 2), Valor: False\n",
      "Índice: (2, 3), Valor: True\n",
      "Índice: (2, 4), Valor: False\n",
      "Índice: (2, 5), Valor: False\n",
      "Índice: (2, 6), Valor: False\n",
      "Índice: (2, 7), Valor: False\n",
      "Índice: (2, 8), Valor: False\n",
      "Índice: (2, 9), Valor: False\n",
      "Índice: (3, 0), Valor: False\n",
      "Índice: (3, 1), Valor: False\n",
      "Índice: (3, 2), Valor: False\n",
      "Índice: (3, 3), Valor: False\n",
      "Índice: (3, 4), Valor: False\n",
      "Índice: (3, 5), Valor: False\n",
      "Índice: (3, 6), Valor: False\n",
      "Índice: (3, 7), Valor: False\n",
      "Índice: (3, 8), Valor: False\n",
      "Índice: (3, 9), Valor: False\n",
      "Índice: (4, 0), Valor: False\n",
      "Índice: (4, 1), Valor: False\n",
      "Índice: (4, 2), Valor: False\n",
      "Índice: (4, 3), Valor: False\n",
      "Índice: (4, 4), Valor: False\n",
      "Índice: (4, 5), Valor: False\n",
      "Índice: (4, 6), Valor: False\n",
      "Índice: (4, 7), Valor: False\n",
      "Índice: (4, 8), Valor: False\n",
      "Índice: (4, 9), Valor: False\n",
      "Índice: (5, 0), Valor: False\n",
      "Índice: (5, 1), Valor: False\n",
      "Índice: (5, 2), Valor: False\n",
      "Índice: (5, 3), Valor: True\n",
      "Índice: (5, 4), Valor: False\n",
      "Índice: (5, 5), Valor: False\n",
      "Índice: (5, 6), Valor: False\n",
      "Índice: (5, 7), Valor: False\n",
      "Índice: (5, 8), Valor: False\n",
      "Índice: (5, 9), Valor: True\n",
      "Índice: (6, 0), Valor: False\n",
      "Índice: (6, 1), Valor: False\n",
      "Índice: (6, 2), Valor: False\n",
      "Índice: (6, 3), Valor: False\n",
      "Índice: (6, 4), Valor: False\n",
      "Índice: (6, 5), Valor: False\n",
      "Índice: (6, 6), Valor: False\n",
      "Índice: (6, 7), Valor: False\n",
      "Índice: (6, 8), Valor: False\n",
      "Índice: (6, 9), Valor: False\n",
      "Índice: (7, 0), Valor: True\n",
      "Índice: (7, 1), Valor: False\n",
      "Índice: (7, 2), Valor: False\n",
      "Índice: (7, 3), Valor: False\n",
      "Índice: (7, 4), Valor: False\n",
      "Índice: (7, 5), Valor: False\n",
      "Índice: (7, 6), Valor: False\n",
      "Índice: (7, 7), Valor: True\n",
      "Índice: (7, 8), Valor: False\n",
      "Índice: (7, 9), Valor: False\n",
      "Índice: (8, 0), Valor: False\n",
      "Índice: (8, 1), Valor: False\n",
      "Índice: (8, 2), Valor: False\n",
      "Índice: (8, 3), Valor: False\n",
      "Índice: (8, 4), Valor: False\n",
      "Índice: (8, 5), Valor: False\n",
      "Índice: (8, 6), Valor: False\n",
      "Índice: (8, 7), Valor: True\n",
      "Índice: (8, 8), Valor: False\n",
      "Índice: (8, 9), Valor: False\n",
      "Índice: (9, 0), Valor: False\n",
      "Índice: (9, 1), Valor: False\n",
      "Índice: (9, 2), Valor: False\n",
      "Índice: (9, 3), Valor: False\n",
      "Índice: (9, 4), Valor: True\n",
      "Índice: (9, 5), Valor: False\n",
      "Índice: (9, 6), Valor: False\n",
      "Índice: (9, 7), Valor: False\n",
      "Índice: (9, 8), Valor: False\n",
      "Índice: (9, 9), Valor: False\n"
     ]
    }
   ],
   "source": [
    "for index, value in np.ndenumerate(array_max>90):\n",
    "    print(f\"Índice: {index}, Valor: {value}\")"
   ]
  },
  {
   "cell_type": "code",
   "execution_count": 105,
   "metadata": {},
   "outputs": [
    {
     "data": {
      "text/plain": [
       "array([[ 98,  94,  94,  93,  74,  71,  48,  37,  10,   5],\n",
       "       [ 87,  73,  59,  59,  57,  52,  41,  31,  28,  10],\n",
       "       [ 92,  81,  51,  42,  36,  26,  25,  23,  22,   3],\n",
       "       [ 90,  70,  58,  57,  45,  45,  37,  36,  22,  16],\n",
       "       [ 85,  83,  57,  43,  35,  31,  21,   8,   2,   1],\n",
       "       [ 94,  91,  80,  73,  73,  67,  43,  15,   7,   5],\n",
       "       [ 80,  75,  73,  62,  32,  31,  24,  21,  20,   1],\n",
       "       [ 99,  93,  89,  86,  71,  59,  40,  30,   8,   3],\n",
       "       [100,  90,  71,  59,  48,  41,  40,  37,  37,  36],\n",
       "       [ 92,  83,  77,  72,  71,  68,  31,  18,  10,   3]])"
      ]
     },
     "execution_count": 105,
     "metadata": {},
     "output_type": "execute_result"
    }
   ],
   "source": [
    "# 7.8 Ordena el array de mayor a menor\n",
    "np.sort(-array_max)\n",
    "# Ponemos otro menos pàra que nos lo devuelva en positivo\n",
    "-np.sort(-array_max)"
   ]
  }
 ],
 "metadata": {
  "kernelspec": {
   "display_name": "base",
   "language": "python",
   "name": "python3"
  },
  "language_info": {
   "codemirror_mode": {
    "name": "ipython",
    "version": 3
   },
   "file_extension": ".py",
   "mimetype": "text/x-python",
   "name": "python",
   "nbconvert_exporter": "python",
   "pygments_lexer": "ipython3",
   "version": "3.11.7"
  }
 },
 "nbformat": 4,
 "nbformat_minor": 2
}
